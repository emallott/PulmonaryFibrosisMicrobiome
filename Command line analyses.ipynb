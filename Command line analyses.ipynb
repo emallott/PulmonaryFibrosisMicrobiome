{
 "cells": [
  {
   "cell_type": "code",
   "execution_count": null,
   "metadata": {},
   "outputs": [],
   "source": []
  },
  {
   "cell_type": "markdown",
   "metadata": {},
   "source": [
    "# Pulmonary fibrosis analysis - command line code\n",
    "\n",
    "### Overview of analysis\n",
    "The goal of this analysis is to compare the gut microbiota of mice in an ABSL2 facility (8th floor), a non-infectious facility (7th floor), and germ-free mice. In each facility, there are mice that have bleomycin-induced pulmonary fibrosis and control mice (saline treatment). The highest degree of pulmonary fibrosis is found in the ABSL2 facility, followed by the non-infectious facility, followed by the germ-free mouse facility. We are testing if the gut microbiota differs between facilities and treatments, and if there are specific taxa of microbes associated with pulmonary fibrosis.\n",
    "\n",
    "All KneadData, MetaPhlan, and HUMAnN analyses were performed on Vanderbilt University's ACCRE cluster (https://www.vanderbilt.edu/accre/).\n",
    "\n",
    "### Sequence quality-filtering and trimming\n",
    "We used KneadData (https://huttenhower.sph.harvard.edu/kneaddata/, v.0.7.6) to quality filter reads, trim low-quality base calls, and remove contaminating sequences. We usd default values for KneadData and the C57BL mouse contaminant database (http://huttenhower.sph.harvard.edu/kneadData_databases/mouse_C57BL_6NJ_Bowtie2_v0.1.tar.gz). As sequencing was paired-end, each read file was run through KneadData individually, and then the resulting cleaned reads were concatenated together for each sample.\n",
    "\n",
    "kneaddata --input /data/bordenstein_lab/chioma_analysis/sample1_R1_001.fastq.gz --threads 8 \\\n",
    "--reference-db /data/bordenstein_lab/humann_db/mouse_C57BL --output /data/bordenstein_lab/chioma_analysis/kneaddata\n",
    "kneaddata --input /data/bordenstein_lab/chioma_analysis/sample1_R2_001.fastq.gz --threads 8 \\\n",
    "--reference-db /data/bordenstein_lab/humann_db/mouse_C57BL --output /data/bordenstein_lab/chioma_analysis/kneaddata\n",
    "\n",
    "cat /data/bordenstein_lab/chioma_analysis/kneaddata/sample1_R1_001_kneaddata.fastq \\\n",
    "/data/bordenstein_lab/chioma_analysis/kneaddata/sample1_R2_001_kneaddata.fastq > \\\n",
    "/Users/bordensteinlab/Bordenstein_Lab/mallott/chioma_analysis/sample1_kneaddata_cat.fastq"
   ]
  },
  {
   "cell_type": "markdown",
   "metadata": {},
   "source": [
    "### Compositional profiling\n",
    "We used MetaPhlAn3 (https://huttenhower.sph.harvard.edu/metaphlan3, v.3.0.4) to profile the taxonomic composition of the metagenomes. Default values were used. Output taxonomic profiles were merged for downstream analysis, and species-level relative abundance tables were extracted from the merge profiles."
   ]
  },
  {
   "cell_type": "code",
   "execution_count": null,
   "metadata": {},
   "outputs": [],
   "source": [
    "metaphlan /data/bordenstein_lab/chioma_analysis/kneaddata/sample1_kneaddata_cat.fastq \\\n",
    "--input_type fastq --nproc 8 --bowtie2db /data/bordenstein_lab/humann_db \\\n",
    "> /data/bordenstein_lab/chioma_analysis/metaphlan_output/sample1_kneaddata_cat.fastq_profile.txt\n",
    "\n",
    "mv /data/bordenstein_lab/chioma_analysis/kenaddata/*profile.txt /data/bordenstein_lab/chioma_analysis/metaphlan_output\n",
    "\n",
    "merge_metaphlan_tables.py /data/bordenstein_lab/chioma_analysis/metaphlan_output/*  \\\n",
    "> /data/bordenstein_lab/chioma_analysis/metaphlan_output/merged_abundance_table.txt\n",
    "\n",
    "grep -E \"s__|clade\" merged_abundance_table.txt | sed 's/^.*s__//g' | cut -f1,3-70 | sed -e 's/clade_name/body_site/g' \\\n",
    "> merged_abundance_table_species.txt\n"
   ]
  },
  {
   "cell_type": "markdown",
   "metadata": {},
   "source": [
    "The vegan package in R was used to calculated beta diversity metrics from the species-level taxonomic relative abundance tables and run PERMANOVAs to test differences in overall community composition (see taxonomic_analysis.Rmd)."
   ]
  },
  {
   "cell_type": "markdown",
   "metadata": {},
   "source": [
    "LEfSe (https://huttenhower.sph.harvard.edu/galaxy/) was used to identify differentially abundant taxa."
   ]
  },
  {
   "cell_type": "code",
   "execution_count": null,
   "metadata": {},
   "outputs": [],
   "source": [
    "docker run -it -v /Users:/Users biobakery/lefse bash\n",
    "\n",
    "format_input.py merged_abundance_table_species_lefse_treatment.txt merged_abundance_species_treatment.lefse \\\n",
    "-u 1 -c 2 -o 1000000\n",
    "\n",
    "run_lefse.py merged_abundance_species_treatment.lefse merged_abundance_species_treatment.res\n",
    "\n",
    "plot_res.py --dpi 300 merged_abundance_species_treatment.res merged_abundance_species_treatment.png \\\n",
    "--subclades -1 --max_feature_len 150 --right_space 0.25 --left_space 0.25 --width 12 \n",
    "\n",
    "format_input.py merged_abundance_table_species_lefse_floor.txt merged_abundance_species_floor.lefse \\\n",
    "-u 1 -c 2 -o 1000000\n",
    "\n",
    "run_lefse.py merged_abundance_species_floor.lefse merged_abundance_species_floor.res\n",
    "\n",
    "plot_res.py --dpi 300 merged_abundance_species_floor.res merged_abundance_species_floor.png \\\n",
    "--subclades -1 --max_feature_len 150 --right_space 0.25 --left_space 0.25 --width 12 \n"
   ]
  },
  {
   "cell_type": "markdown",
   "metadata": {},
   "source": [
    "### Functional profiling\n",
    "We used HUMAnN3 (https://huttenhower.sph.harvard.edu/humann3/, v3.0.0) to profile the functional composition of the metagenomes. Default values were used and the translated search was performed using the UniRef90 database. Output taxonomic profiles, gene family tables, and pathway abundance tables for all samples were merged for downstream analysis. Pathway abundance tables were renormalized to relative abundances and gene family tables were regrouped into KEGG Orthogroups and renormalized to copies per million. All pathway abundance and gene family tables were split into stratified and unstratified tables."
   ]
  },
  {
   "cell_type": "code",
   "execution_count": null,
   "metadata": {},
   "outputs": [],
   "source": [
    "humann --input /data/bordenstein_lab/chioma_analysis/kneaddata/sample1_kneaddata_cat.fastq \\\n",
    "--output /data/bordenstein_lab/chioma_analysis/humann_output/ --threads 8 \\\n",
    "--nucleotide-database /data/bordenstein_lab/humann_db/chocophlan --protein-database \\\n",
    "/data/bordenstein_lab/humann_db/uniref --metaphlan-options \"--bowtie2db /data/bordenstein_lab/humann_db\"\n",
    "\n",
    "humann_join_tables --input /data/bordenstein_lab/chioma_analysis/humann_output \\\n",
    "--output /data/bordenstein_lab/chioma_analysis/humann_output/chioma_genefamilies.tsv --file_name genefamilies\n",
    "\n",
    "humann_join_tables --input /data/bordenstein_lab/chioma_analysis/humann_output \\\n",
    "--output /data/bordenstein_lab/chioma_analysis/humann_output/chioma_pathabundance.tsv --file_name pathabundance\n",
    "\n",
    "humann_split_stratified_table --input /data/bordenstein_lab/chioma_analysis/humann_output/caatinga_genefamilies.tsv \\\n",
    "--output /data/bordenstein_lab/chioma_analysis/humann_output/caatinga_genefamilies\n",
    "\n",
    "humann_split_stratified_table --input /data/bordenstein_lab/chioma_analysis/humann_output/caatinga_pathabundance.tsv \\\n",
    "--output /data/bordenstein_lab/chioma_analysis/humann_output/caatinga_pathabundance\n",
    "\n",
    "humann_renorm_table --input /data/bordenstein_lab/chioma_analysis/humann_output/mouse_genefamilies.tsv \\\n",
    "--output /data/bordenstein_lab/chioma_analysis/humann_output/mouse_genefamilies_cpm.tsv --units cpm\n",
    "\n",
    "humann_renorm_table --input /data/bordenstein_lab/chioma_analysis/humann_output/mouse_pathabundance.tsv \\\n",
    "--output /data/bordenstein_lab/chioma_analysis/humann_output/mouse_pathabundance_relab.tsv --units relab\n",
    "\n",
    "humann_split_stratified_table --input /data/bordenstein_lab/chioma_analysis/humann_output/caatinga_genefamilies_cpm.tsv \\\n",
    "--output /data/bordenstein_lab/chioma_analysis/humann_output/caatinga_genefamilies_cpm\n",
    "\n",
    "humann_split_stratified_table --input /data/bordenstein_lab/chioma_analysis/humann_output/caatinga_pathabundance_relab.tsv \\\n",
    "--output /data/bordenstein_lab/chioma_analysis/humann_output/caatinga_pathabundance_relab\n",
    "\n",
    "humann_regroup_table --input /data/bordenstein_lab/chioma_analysis/humann_output/mouse_genefamilies.tsv \\\n",
    "--custom /data/bordenstein/humann_db/utility_mapping/map_ko_uniref90.txt.gz  --output /data/bordenstein_lab/chioma_analysis/humann_output/mouse_genefamilies_ko.tsv\n",
    "\n",
    "humann_renorm_table --input /data/bordenstein_lab/chioma_analysis/humann_output/mouse_genefamilies_ko.tsv \\\n",
    "--output /data/bordenstein_lab/chioma_analysis/humann_output/mouse_genefamilies_ko_cpm.tsv --units cpm\n",
    "\n",
    "humann_split_stratified_table --input /data/bordenstein_lab/chioma_analysis/humann_output/mouse_genefamilies_ko_cpm.tsv \\\n",
    "--output /data/bordenstein_lab/chioma_analysis/humann_output/"
   ]
  }
 ],
 "metadata": {
  "kernelspec": {
   "display_name": "Bash",
   "language": "bash",
   "name": "bash"
  },
  "language_info": {
   "codemirror_mode": "shell",
   "file_extension": ".sh",
   "mimetype": "text/x-sh",
   "name": "bash"
  }
 },
 "nbformat": 4,
 "nbformat_minor": 4
}
